{
 "cells": [
  {
   "cell_type": "markdown",
   "id": "c5194003",
   "metadata": {},
   "source": [
    "# Лабораторная работа №3 "
   ]
  },
  {
   "cell_type": "markdown",
   "id": "53b13ef3",
   "metadata": {},
   "source": [
    "Субботин Максим 9382, вариант 18, в млите 48, дм 38"
   ]
  },
  {
   "cell_type": "markdown",
   "id": "96d8a512",
   "metadata": {},
   "source": [
    "## Цель работы\n",
    "Практическое применение библиотеки символьных вычислений Python (SymPy) для решения задач дискретной математики и математической логики."
   ]
  },
  {
   "cell_type": "markdown",
   "id": "006be8b3",
   "metadata": {},
   "source": [
    "##  Решение диофантового уравнения.\n",
    "2771x+2261y=-136"
   ]
  },
  {
   "cell_type": "code",
   "execution_count": 19,
   "id": "285d35a6",
   "metadata": {},
   "outputs": [
    {
     "data": {
      "text/plain": [
       "{(133*t_0 + 248, -163*t_0 - 304)}"
      ]
     },
     "execution_count": 19,
     "metadata": {},
     "output_type": "execute_result"
    }
   ],
   "source": [
    "from sympy.solvers.diophantine import diophantine\n",
    "from sympy import symbols\n",
    "x,y,z = symbols(\"x, y, z\", integer=True)\n",
    "diophantine(2771*x + 2261*y + 136)"
   ]
  },
  {
   "cell_type": "markdown",
   "id": "94359c5f",
   "metadata": {},
   "source": [
    "x=133t+248\n",
    "\n",
    "y=-163t-304"
   ]
  },
  {
   "cell_type": "markdown",
   "id": "0001b55c",
   "metadata": {},
   "source": [
    "## Имея открытую часть ключа RSA найти соответствующую закрытую часть и расшифровать кодированное слово.\n",
    "Русское слово из четырех букв закодировано при помощи алгоритма RSA открытым ключом (e = 3,m = 33).\n",
    "Шифрованное сообщение имеет вид (21; 13; 3; 18). Подберите закрытую часть ключа и прочитайте исходное слово.\n",
    "Буквам русского алфавита соответсвуют числа в диапазоне от 2 до 32 (исключены буквы “e” и “ъ”)."
   ]
  },
  {
   "cell_type": "code",
   "execution_count": 22,
   "id": "c7c8a3d6",
   "metadata": {},
   "outputs": [
    {
     "name": "stdout",
     "output_type": "stream",
     "text": [
      "['у', 'е', 'з', 'д']\n"
     ]
    }
   ],
   "source": [
    "from sympy.crypto.crypto import rsa_private_key, decipher_rsa, encipher_rsa\n",
    "\n",
    "alphabet=\"абвгдежзийклмнопрстуфхцчшщыьэюя\"\n",
    "key = rsa_private_key(33, 3)\n",
    "word = [21, 13, 3, 18]\n",
    "\n",
    "string = [ alphabet[decipher_rsa(i, key)-2] for i in word]\n",
    "print(string)"
   ]
  },
  {
   "cell_type": "markdown",
   "id": "e19d2f7c",
   "metadata": {},
   "source": [
    "Получается слово 'уезд'"
   ]
  },
  {
   "cell_type": "markdown",
   "id": "028fb132",
   "metadata": {},
   "source": [
    "## Записать в формате ДНФ и КНФ булеву функцию, заданную своим аналитическим выражением."
   ]
  },
  {
   "cell_type": "markdown",
   "id": "acfaf355",
   "metadata": {},
   "source": [
    "Функция имеет вид: f(x,y,z)=((yz) v (x v z)) xor (y xor (xy))\n",
    "\n",
    "В решении переменные A,B,C соответствуют переменным x,y,z"
   ]
  },
  {
   "cell_type": "code",
   "execution_count": 23,
   "id": "bc079f0d",
   "metadata": {},
   "outputs": [
    {
     "data": {
      "text/latex": [
       "$\\displaystyle A \\vee B \\vee C$"
      ],
      "text/plain": [
       "A | B | C"
      ]
     },
     "execution_count": 23,
     "metadata": {},
     "output_type": "execute_result"
    }
   ],
   "source": [
    "from sympy.logic.boolalg import to_dnf\n",
    "from sympy.abc import A, B, C\n",
    "to_dnf((B & C) | (A | C) ^ (B ^ (A & B)), True)"
   ]
  },
  {
   "cell_type": "code",
   "execution_count": 24,
   "id": "a1222551",
   "metadata": {},
   "outputs": [
    {
     "data": {
      "text/latex": [
       "$\\displaystyle A \\vee B \\vee C$"
      ],
      "text/plain": [
       "A | B | C"
      ]
     },
     "execution_count": 24,
     "metadata": {},
     "output_type": "execute_result"
    }
   ],
   "source": [
    "from sympy.logic.boolalg import to_cnf\n",
    "to_cnf((B & C) | (A | C) ^ (B ^ (A & B)), True)"
   ]
  }
 ],
 "metadata": {
  "kernelspec": {
   "display_name": "Python 3 (ipykernel)",
   "language": "python",
   "name": "python3"
  },
  "language_info": {
   "codemirror_mode": {
    "name": "ipython",
    "version": 3
   },
   "file_extension": ".py",
   "mimetype": "text/x-python",
   "name": "python",
   "nbconvert_exporter": "python",
   "pygments_lexer": "ipython3",
   "version": "3.8.11"
  }
 },
 "nbformat": 4,
 "nbformat_minor": 5
}
